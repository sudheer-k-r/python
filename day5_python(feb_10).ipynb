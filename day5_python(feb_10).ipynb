{
  "nbformat": 4,
  "nbformat_minor": 0,
  "metadata": {
    "colab": {
      "provenance": [],
      "authorship_tag": "ABX9TyPr0TnFodeGfr/uywnuMpIR",
      "include_colab_link": true
    },
    "kernelspec": {
      "name": "python3",
      "display_name": "Python 3"
    },
    "language_info": {
      "name": "python"
    }
  },
  "cells": [
    {
      "cell_type": "markdown",
      "metadata": {
        "id": "view-in-github",
        "colab_type": "text"
      },
      "source": [
        "<a href=\"https://colab.research.google.com/github/sudheer-k-r/python/blob/main/day5_python(feb_10).ipynb\" target=\"_parent\"><img src=\"https://colab.research.google.com/assets/colab-badge.svg\" alt=\"Open In Colab\"/></a>"
      ]
    },
    {
      "cell_type": "code",
      "execution_count": null,
      "metadata": {
        "colab": {
          "base_uri": "https://localhost:8080/"
        },
        "id": "VJTj6QYzku6O",
        "outputId": "416fdb74-d582-4986-9bb7-04b1d6cfe8fa"
      },
      "outputs": [
        {
          "output_type": "stream",
          "name": "stdout",
          "text": [
            "10\n",
            "100\n"
          ]
        }
      ],
      "source": [
        "class a:\n",
        "  ab =10\n",
        "\n",
        "obj1 = a()\n",
        "obj1.ab =100\n",
        "print(a.ab)\n",
        "print(obj1.ab)"
      ]
    },
    {
      "cell_type": "code",
      "source": [
        "class Student():\n",
        "   def __init__(self,name,marks):\n",
        "     self.name = name\n",
        "     self.marks = marks\n",
        "    \n",
        "   def average(self):\n",
        "      return sum(self.marks)//len(self.marks)\n",
        "\n",
        "\n",
        "s1= Student(\"sudheer\",[1,2,3,4])\n",
        "print(s1.average())\n",
        "\n",
        "s1.marks.append(3000)\n",
        "print(len(s1.marks))\n",
        "def av1(s12):\n",
        "  s12.marks.append(899)\n",
        "av1(s1)\n",
        "print(s1.marks)"
      ],
      "metadata": {
        "colab": {
          "base_uri": "https://localhost:8080/"
        },
        "id": "2XrDoonT7i-I",
        "outputId": "a387c849-7a19-42a6-cb74-72a89da0bc74"
      },
      "execution_count": null,
      "outputs": [
        {
          "output_type": "stream",
          "name": "stdout",
          "text": [
            "2\n",
            "5\n",
            "[1, 2, 3, 4, 3000, 899]\n"
          ]
        }
      ]
    },
    {
      "cell_type": "code",
      "source": [
        "# , @property "
      ],
      "metadata": {
        "id": "Qx7B6S2HGzY6"
      },
      "execution_count": null,
      "outputs": []
    },
    {
      "cell_type": "code",
      "source": [
        "# single level inheritance \n",
        "\n",
        "class Driver():\n",
        "  def __init__(self,name,email,wallet):\n",
        "    self.name =name\n",
        "    self.email = email\n",
        "    self.wallet = wallet\n",
        "\n",
        "  def vehicle_info(self):\n",
        "    print(\"vehicle info\")\n",
        "\n",
        "class Customer(Driver):\n",
        "  def __init__(self,name,email,wallet, trip_status):\n",
        "    super().__init__(name,email,wallet)\n",
        "    self.trip_status = trip_status\n",
        "\n",
        "  def customer_vehicle_info(self):\n",
        "     super().vehicle_info()\n",
        "     print(\"done\")\n",
        "\n",
        "  \n",
        "c1 = Customer(\"c01\",\"c01@gm,ail.com\",\"wallet1\",\"active\")\n",
        "c1.customer_vehicle_info()"
      ],
      "metadata": {
        "colab": {
          "base_uri": "https://localhost:8080/"
        },
        "id": "ct6y-C5yI4G_",
        "outputId": "238edab3-bd44-4016-90c0-62b81b62c898"
      },
      "execution_count": null,
      "outputs": [
        {
          "output_type": "stream",
          "name": "stdout",
          "text": [
            "vehicle info\n",
            "done\n"
          ]
        }
      ]
    },
    {
      "cell_type": "code",
      "source": [
        "#polymorphism  "
      ],
      "metadata": {
        "id": "LpQmqfAjewxV"
      },
      "execution_count": null,
      "outputs": []
    },
    {
      "cell_type": "code",
      "source": [
        "# operater overloading question\n",
        "\n",
        "class Check():\n",
        "  def __init__(self,a,b,c):\n",
        "    self.a =a\n",
        "    self.b =b\n",
        "    self.c =c\n",
        "   \n",
        "  def square(self):\n",
        "    return int(self.a**2+self.b**2+self.c**2) \n",
        "\n",
        "  def __gt__(v1,v2):\n",
        "    if (v1.square() > v2.square()):\n",
        "      return False\n",
        "    else:\n",
        "      return True\n",
        "\n",
        "\n",
        "values1 = Check(2,1,4)\n",
        "\n",
        "values2 = Check(3,4,1)\n",
        "\n",
        "print(values1.square())\n",
        "print(values2.square())\n",
        "# print(21>26)\n",
        "print(values1> values2)"
      ],
      "metadata": {
        "colab": {
          "base_uri": "https://localhost:8080/"
        },
        "id": "7LfJdo4Puwo6",
        "outputId": "41763b2a-4035-475b-c3a8-294621764d55"
      },
      "execution_count": null,
      "outputs": [
        {
          "output_type": "stream",
          "name": "stdout",
          "text": [
            "21\n",
            "26\n",
            "True\n"
          ]
        }
      ]
    },
    {
      "cell_type": "code",
      "source": [
        "n =324\n",
        "sum =0\n",
        "while(n>0):\n",
        "  r = n %10\n",
        "  sum = sum +r **2\n",
        "  n = n//10\n",
        "  # print(n)\n",
        "print(sum)\n",
        "\n",
        "\n",
        "#recursion - 123 = 1+4+9=14\n",
        "def fun_sq(n):\n",
        "  if n<10:\n",
        "    return n**2\n",
        "  else:\n",
        "    return (n%10) **2 + fun_sq(n//10)\n",
        "\n",
        "\n",
        "print(\"answer\",fun_sq(324))"
      ],
      "metadata": {
        "colab": {
          "base_uri": "https://localhost:8080/"
        },
        "id": "_bSvxDDd3g4z",
        "outputId": "2e5ba55c-3581-472a-97cd-0c2da4dc12fa"
      },
      "execution_count": null,
      "outputs": [
        {
          "output_type": "stream",
          "name": "stdout",
          "text": [
            "29\n",
            "answer 29\n"
          ]
        }
      ]
    }
  ]
}