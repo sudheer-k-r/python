{
  "nbformat": 4,
  "nbformat_minor": 0,
  "metadata": {
    "colab": {
      "provenance": [],
      "authorship_tag": "ABX9TyOam0DJQ9Nz3+GdsSLFBN3C",
      "include_colab_link": true
    },
    "kernelspec": {
      "name": "python3",
      "display_name": "Python 3"
    },
    "language_info": {
      "name": "python"
    }
  },
  "cells": [
    {
      "cell_type": "markdown",
      "metadata": {
        "id": "view-in-github",
        "colab_type": "text"
      },
      "source": [
        "<a href=\"https://colab.research.google.com/github/sudheer-k-r/python/blob/main/day3_python.ipynb\" target=\"_parent\"><img src=\"https://colab.research.google.com/assets/colab-badge.svg\" alt=\"Open In Colab\"/></a>"
      ]
    },
    {
      "cell_type": "code",
      "execution_count": null,
      "metadata": {
        "id": "fjLcBP_HM7Si"
      },
      "outputs": [],
      "source": [
        "# - Functional programming\n",
        "# - Parameter vs Argument\n",
        "# - Lambda functions\n",
        "# - Passing argumnet to the function\n",
        "# - Problem solving skills \n",
        "# - Interview question"
      ]
    },
    {
      "cell_type": "code",
      "source": [
        "# to take a list value and create its cube if it is a integer number and make the changes on the original data on evry index\n",
        "\n",
        "l1 = [1,2,3,4]\n",
        "\n",
        "print(id(l1))\n",
        "def cube(l1):\n",
        "  print(id(l1))\n",
        "  # l1 = [i**3 for i in l1]\n",
        "  for i in range(len(l1)):\n",
        "    l1[i] = l1[i]**3\n",
        "    \n",
        "\n",
        "cube(l1)\n",
        "print(l1)\n",
        "\n",
        "\n"
      ],
      "metadata": {
        "colab": {
          "base_uri": "https://localhost:8080/"
        },
        "id": "cfH7_Fn2UWOa",
        "outputId": "80b73de4-cc66-4462-b80a-e3ac652fcc8d"
      },
      "execution_count": null,
      "outputs": [
        {
          "output_type": "stream",
          "name": "stdout",
          "text": [
            "139687061164672\n",
            "139687061164672\n",
            "[1, 8, 27, 64]\n"
          ]
        }
      ]
    },
    {
      "cell_type": "code",
      "source": [
        "#take two numbers and find the lcm \n",
        "# Take 2 number from the user => and check whether it's integer or not\n",
        "# \t- If integer find the LCM of both the number\n",
        "\n",
        "in1 = input()\n",
        "in2 = input()\n",
        "if in1.isnumeric():\n",
        "  in1 = int(in1)\n",
        "if in2.isnumeric():\n",
        "  in2 = int(in2)\n",
        "\n",
        "res = max(in1,in2)\n",
        "# print(res)\n",
        "while(True):\n",
        "  if(res % in1 == 0 and res%in2 ==0):\n",
        "    print(\"res\",res)\n",
        "    break\n",
        "  else:\n",
        "    # print(res)\n",
        "    res= res+1"
      ],
      "metadata": {
        "colab": {
          "base_uri": "https://localhost:8080/"
        },
        "id": "lGh7s1fCeTQ-",
        "outputId": "7454bcc7-487e-41e5-e51f-d8961d01d0a2"
      },
      "execution_count": null,
      "outputs": [
        {
          "output_type": "stream",
          "name": "stdout",
          "text": [
            "4\n",
            "8\n",
            "res 8\n"
          ]
        }
      ]
    },
    {
      "cell_type": "code",
      "source": [
        "# using vlength args to find lcm\n",
        "# Find lcm of multiple elements by using variable length arguments in the function\n",
        "\n",
        "def find_lcm(*args):\n",
        "    if len(args)<2:\n",
        "        print(\"Please enter atleast 2 numbers to find LCM\")\n",
        "        return\n",
        "    else:\n",
        "        \n",
        "        m=max(args)\n",
        "        i=1\n",
        "        lcm=m\n",
        "        while True:\n",
        "            count=0\n",
        "            for e in args:\n",
        "                if m*i%e!=0:\n",
        "                    break\n",
        "                else:\n",
        "                    count+=1\n",
        "            if count==len(args):\n",
        "                lcm=m*i\n",
        "                break\n",
        "            i+=1\n",
        "    return lcm\n",
        "print(find_lcm(10,20,30,40))"
      ],
      "metadata": {
        "colab": {
          "base_uri": "https://localhost:8080/"
        },
        "id": "fGP4jlqf00YZ",
        "outputId": "a635ab55-41e3-44d7-db6f-b545e145dd01"
      },
      "execution_count": null,
      "outputs": [
        {
          "output_type": "stream",
          "name": "stdout",
          "text": [
            "120\n"
          ]
        }
      ]
    },
    {
      "cell_type": "code",
      "source": [
        "#gcd(oppsite of lcm)\n",
        "# Python program to find H.C.F of two numbers\n",
        "\n",
        "def compute_hcf(x, y):\n",
        "    if x > y:\n",
        "        smaller = y\n",
        "    else:\n",
        "        smaller = x\n",
        "    for i in range(1, smaller+1):\n",
        "        if((x % i == 0) and (y % i == 0)):\n",
        "            hcf = i \n",
        "    return hcf\n",
        "\n",
        "num1 = 54 \n",
        "num2 = 24\n",
        "\n",
        "print(\"The H.C.F. is\", compute_hcf(num1, num2))\n"
      ],
      "metadata": {
        "id": "TrY2heC2kRdf"
      },
      "execution_count": null,
      "outputs": []
    },
    {
      "cell_type": "code",
      "source": [
        "#assignment\n",
        "# create a function which takes an parameter of string type\n",
        "# \t- Accept the string in case if the string contains\n",
        "# \tVowels ( a,e,i,o,u)\n",
        "\n",
        "# Accept the string in case if we have vowels but in even positions of the data ( all vowels)\n",
        "\n",
        "# Otherwise return string not accepted\n",
        "\n",
        "def vowel(str1,set1):\n",
        "  str1 = str1.lower()\n",
        "  flag = True\n",
        "  for i in set1:\n",
        "    if i not in str1:\n",
        "      flag = False\n",
        "  if flag == True:\n",
        "    print(\"all are vowels\")\n",
        "  else:\n",
        "    print(\"all chars not vowels\")\n",
        "\n",
        "\n",
        "def check_pos(str1,set1):\n",
        "  flag = True\n",
        "  str1 = str1.lower()\n",
        "  for i in range(len(str1)):\n",
        "    if i %2==0:\n",
        "      # print(i)\n",
        "      if str1[i] not in set1:\n",
        "        flag = False\n",
        "        # print(\"bye\")\n",
        "        break\n",
        "      else:\n",
        "        continue\n",
        "  if flag == True:\n",
        "    print(\"valid\")\n",
        "  else:\n",
        "    print(\"not valid\")\n",
        "\n",
        "\n",
        "\n",
        "str1 = input(\"enter a string \")\n",
        "set1 =\"aeiou\"\n",
        "vowel(str1,set1)\n",
        "check_pos(str1,set1)\n",
        "\n",
        "\n"
      ],
      "metadata": {
        "colab": {
          "base_uri": "https://localhost:8080/"
        },
        "id": "E-ko1FBEkS4O",
        "outputId": "2c91fcd0-7600-4e74-9c71-baec4da901a3"
      },
      "execution_count": null,
      "outputs": [
        {
          "output_type": "stream",
          "name": "stdout",
          "text": [
            "enter a string aeiou\n",
            "all are vowels\n",
            "valid\n"
          ]
        }
      ]
    },
    {
      "cell_type": "code",
      "source": [
        "# None + 3"
      ],
      "metadata": {
        "id": "Ng3idnllRoEv"
      },
      "execution_count": null,
      "outputs": []
    },
    {
      "cell_type": "markdown",
      "source": [
        "FUNCTIONAL PROGRAMMING"
      ],
      "metadata": {
        "id": "CS5gkwbDom0M"
      }
    },
    {
      "cell_type": "code",
      "source": [
        "myList = [1,2,3,4,5]\n",
        "list(map(lambda n1: n1.split(), [\"ghfhgdf sdhjfbhg\", \"sdfhghds\"]))"
      ],
      "metadata": {
        "colab": {
          "base_uri": "https://localhost:8080/"
        },
        "id": "9pnMGVlcSfH4",
        "outputId": "fcc2901f-f1c9-4411-dcc6-53726f751632"
      },
      "execution_count": null,
      "outputs": [
        {
          "output_type": "execute_result",
          "data": {
            "text/plain": [
              "[['ghfhgdf', 'sdhjfbhg'], ['sdfhghds']]"
            ]
          },
          "metadata": {},
          "execution_count": 99
        }
      ]
    },
    {
      "cell_type": "code",
      "source": [
        "l1 =[(2,5),(4,6),(1,3),(7,9)]\n",
        "\n",
        "l2=list(filter(lambda x:  x[0]%2==0, l1))\n",
        "l2"
      ],
      "metadata": {
        "colab": {
          "base_uri": "https://localhost:8080/"
        },
        "id": "ihQDqXZsXWAu",
        "outputId": "2a8839c4-1758-4dcd-9b3c-a422b959e0ff"
      },
      "execution_count": null,
      "outputs": [
        {
          "output_type": "execute_result",
          "data": {
            "text/plain": [
              "[(2, 5), (4, 6)]"
            ]
          },
          "metadata": {},
          "execution_count": 69
        }
      ]
    },
    {
      "cell_type": "code",
      "source": [
        "l1 = [{\"name\": \"s1\", \"marks\":[10,20,23,24,25]}, {\"name\": \"s2\", \"marks\":[10,20,23,24,25]},{\"name\": \"s3\", \"marks\":[10,20,23,24,25]}]"
      ],
      "metadata": {
        "id": "LcLXMSyrgZAn"
      },
      "execution_count": null,
      "outputs": []
    },
    {
      "cell_type": "code",
      "source": [
        "(lambda x: x+20)(10)"
      ],
      "metadata": {
        "colab": {
          "base_uri": "https://localhost:8080/"
        },
        "id": "bDrQGjq0hTZ6",
        "outputId": "43a61a7e-576c-4291-a950-5461c47c5d32"
      },
      "execution_count": null,
      "outputs": [
        {
          "output_type": "execute_result",
          "data": {
            "text/plain": [
              "30"
            ]
          },
          "metadata": {},
          "execution_count": 74
        }
      ]
    },
    {
      "cell_type": "code",
      "source": [
        "\n",
        "for i in l1:\n",
        "  print(i[\"marks\"])\n",
        "# (lambda x: x[marks] )(l1)"
      ],
      "metadata": {
        "colab": {
          "base_uri": "https://localhost:8080/"
        },
        "id": "zrgGRhzjhp6K",
        "outputId": "a8288bdd-3360-4975-99bf-95d9755450a5"
      },
      "execution_count": null,
      "outputs": [
        {
          "output_type": "stream",
          "name": "stdout",
          "text": [
            "[10, 20, 23, 24, 25]\n",
            "[10, 20, 23, 24, 25]\n",
            "[10, 20, 23, 24, 25]\n"
          ]
        }
      ]
    },
    {
      "cell_type": "code",
      "source": [
        "# for i in l1:\n",
        "#   for j in i['marks']:\n",
        "#     print(\n",
        "        \n",
        "print((lambda x : sum(i['marks'])/len(i['marks']))(l1))\n",
        "\n",
        "list(map((lambda x : sum(i['marks'])/len(i['marks'])),(l1)))"
      ],
      "metadata": {
        "colab": {
          "base_uri": "https://localhost:8080/"
        },
        "id": "qILM8HXmiOv-",
        "outputId": "3ce93247-8ce4-4520-cb91-ed0e91d910bf"
      },
      "execution_count": null,
      "outputs": [
        {
          "output_type": "stream",
          "name": "stdout",
          "text": [
            "20.4\n"
          ]
        },
        {
          "output_type": "execute_result",
          "data": {
            "text/plain": [
              "[20.4, 20.4, 20.4]"
            ]
          },
          "metadata": {},
          "execution_count": 90
        }
      ]
    },
    {
      "cell_type": "code",
      "source": [
        "d1 ={\"avg\":(lambda x : sum(x)/len(x)) , \"max\" : (lambda x : max(x)), \"min\" : lambda x: min(x)}\n",
        "d1[\"min\"]([1,2,3])\n"
      ],
      "metadata": {
        "colab": {
          "base_uri": "https://localhost:8080/"
        },
        "id": "EJFIGr8PkapU",
        "outputId": "085a54fd-60e9-4017-c9b0-5cd2c1651d35"
      },
      "execution_count": null,
      "outputs": [
        {
          "output_type": "execute_result",
          "data": {
            "text/plain": [
              "1"
            ]
          },
          "metadata": {},
          "execution_count": 98
        }
      ]
    },
    {
      "cell_type": "code",
      "source": [
        "def find_lcm(t1):\n",
        "  res = max(t1[0],t1[1])\n",
        "  # print(res)\n",
        "  while(True):\n",
        "    if(res % t1[0] == 0 and res%t1[1] ==0):\n",
        "      # print(\"res\",res)\n",
        "      return res\n",
        "      # break\n",
        "    else:\n",
        "      # print(res)\n",
        "      res= res+1\n",
        "\n",
        "t1 = [(10,2),(3,4),(5,10)]\n",
        "d2 = {\"lcm\" : list(map(find_lcm,t1))}\n",
        "d2"
      ],
      "metadata": {
        "colab": {
          "base_uri": "https://localhost:8080/"
        },
        "id": "JLqlqoNRoh2Y",
        "outputId": "f786e838-c03b-47c5-8678-e633b65bf137"
      },
      "execution_count": null,
      "outputs": [
        {
          "output_type": "execute_result",
          "data": {
            "text/plain": [
              "{'lcm': [10, 12, 10]}"
            ]
          },
          "metadata": {},
          "execution_count": 108
        }
      ]
    },
    {
      "cell_type": "code",
      "source": [
        "#  reate a lambda function to get the table of any number\n",
        " x =list(map((lambda x: str(x*2)),[1,2,3,4,5,6,7,8,9,10]))\n",
        " print('\\n'.join(x))"
      ],
      "metadata": {
        "colab": {
          "base_uri": "https://localhost:8080/"
        },
        "id": "WIPcrosRuI_P",
        "outputId": "27041e40-bc9f-4bcb-f595-3f3b2653a25c"
      },
      "execution_count": null,
      "outputs": [
        {
          "output_type": "stream",
          "name": "stdout",
          "text": [
            "2\n",
            "4\n",
            "6\n",
            "8\n",
            "10\n",
            "12\n",
            "14\n",
            "16\n",
            "18\n",
            "20\n"
          ]
        }
      ]
    },
    {
      "cell_type": "code",
      "source": [
        "l1 = [1,2,3,4,5,6,7,8,9,10]\n",
        "for i in l1:\n",
        "  print((lambda x: x*2)(i))"
      ],
      "metadata": {
        "colab": {
          "base_uri": "https://localhost:8080/"
        },
        "id": "rX1lIoqSrzca",
        "outputId": "9041f51f-8100-4af8-c4d2-713942eae95a"
      },
      "execution_count": null,
      "outputs": [
        {
          "output_type": "stream",
          "name": "stdout",
          "text": [
            "2\n",
            "4\n",
            "6\n",
            "8\n",
            "10\n",
            "12\n",
            "14\n",
            "16\n",
            "18\n",
            "20\n"
          ]
        }
      ]
    }
  ]
}