{
  "nbformat": 4,
  "nbformat_minor": 0,
  "metadata": {
    "colab": {
      "provenance": [],
      "authorship_tag": "ABX9TyN6Sn4f2sNyUSDAAApwxyw0"
    },
    "kernelspec": {
      "name": "python3",
      "display_name": "Python 3"
    },
    "language_info": {
      "name": "python"
    }
  },
  "cells": [
    {
      "cell_type": "code",
      "execution_count": null,
      "metadata": {
        "colab": {
          "base_uri": "https://localhost:8080/"
        },
        "id": "1zYPTjCpjUP4",
        "outputId": "0cdaffa3-dfea-4563-9a66-e9dd46d25df8"
      },
      "outputs": [
        {
          "output_type": "stream",
          "name": "stdout",
          "text": [
            "we are inside wrapper\n",
            "we need to modify the function\n",
            "wrapper_function\n"
          ]
        }
      ],
      "source": [
        "def decorater_function(func):\n",
        "  def wrapper_function():\n",
        "    print(\"we are inside wrapper\")\n",
        "    func()\n",
        "  return wrapper_function\n",
        "\n",
        "@decorater_function\n",
        "def function_to_decorate():\n",
        "    \"\"\" docs\"\"\"\n",
        "    print(\"we need to modify the function\")\n",
        "\n",
        "\n",
        "# function_to_decorate()\n",
        "\n",
        "# function_to_decorate = decorater_function(function_to_decorate)\n",
        "# function_to_decorate()\n",
        "print(function_to_decorate.__name__)"
      ]
    },
    {
      "cell_type": "code",
      "source": [
        "# import functools\n",
        "\n",
        "def decorater_function(func):\n",
        "  def wrapper_function(*args):\n",
        "    print(\"we are inside wrapper\",*args)\n",
        "    func(*args)\n",
        "  return wrapper_function\n",
        "\n",
        "@decorater_function\n",
        "def function_to_decorate(num1):\n",
        "    \"\"\" docs\"\"\"\n",
        "    print(\"we need to modify the function\",num1)\n",
        "\n",
        "@decorater_function\n",
        "def test():\n",
        "  print(\"another function \")\n",
        "\n",
        "function_to_decorate(30)\n",
        "\n",
        "test()"
      ],
      "metadata": {
        "colab": {
          "base_uri": "https://localhost:8080/"
        },
        "id": "T4YqOnZQmKhg",
        "outputId": "28ff0cb0-cf10-41a2-c342-e9a45642334d"
      },
      "execution_count": null,
      "outputs": [
        {
          "output_type": "stream",
          "name": "stdout",
          "text": [
            "we are inside wrapper 30\n",
            "we need to modify the function 30\n",
            "we are inside wrapper\n",
            "another function \n"
          ]
        }
      ]
    },
    {
      "cell_type": "code",
      "source": [
        "dict1 =[{\"user\":\"pyton\", \"access_level\":\"admin\"}]\n",
        "\n",
        "# can not pass another parameter to decorater function,if want to pass , \n",
        "# make decorater functions as parameter and create another decoprater function\n",
        "def decorater_function(func):\n",
        "  def wrapper_function(*args):\n",
        "    print(args[0][0])\n",
        "    if(args[0][0].get(\"user\") ==\"python\"):\n",
        "        func(*args)\n",
        "    else:\n",
        "      print(\"denied\")\n",
        "  return wrapper_function\n",
        "\n",
        "\n",
        "@decorater_function\n",
        "def function_to_decorate(*num1):\n",
        "    \"\"\" docs\"\"\"\n",
        "    print(\"welcom\",num1[0][0].get(\"user\"))\n",
        "\n",
        "\n",
        "\n",
        "function_to_decorate(dict1)"
      ],
      "metadata": {
        "colab": {
          "base_uri": "https://localhost:8080/"
        },
        "id": "jADWKsUKs5I6",
        "outputId": "ddd67b7a-aeec-45aa-acee-bcf4e7807351"
      },
      "execution_count": null,
      "outputs": [
        {
          "output_type": "stream",
          "name": "stdout",
          "text": [
            "{'user': 'pyton', 'access_level': 'admin'}\n",
            "denied\n"
          ]
        }
      ]
    },
    {
      "cell_type": "code",
      "source": [
        "#collections\n",
        "\n",
        "\n",
        "from collections import Counter\n",
        "\n",
        "# c = Counter({\"a\",\"b\",\"c\",\"a\"})\n",
        "dict1 ={\"a\":2,\"b\":4}\n",
        "\n",
        "c = Counter(dict1)\n",
        "\n",
        "# c= Counter({\"a\":4})\n",
        "c.update({\"a\": 4})\n",
        "\n",
        "print(c)\n",
        "print(type(c))\n",
        "\n",
        "\n",
        "# c.subtract()"
      ],
      "metadata": {
        "id": "sqhze3qJu8I3",
        "colab": {
          "base_uri": "https://localhost:8080/"
        },
        "outputId": "ceeb2bbb-15b5-4e59-b086-9dbb75be6b1f"
      },
      "execution_count": null,
      "outputs": [
        {
          "output_type": "stream",
          "name": "stdout",
          "text": [
            "Counter({'a': 6, 'b': 4})\n",
            "<class 'collections.Counter'>\n"
          ]
        }
      ]
    },
    {
      "cell_type": "code",
      "source": [
        "#default dict \n",
        "\n",
        "from collections import defaultdict \n",
        "\n",
        "\n"
      ],
      "metadata": {
        "id": "QOoglv09JYe6"
      },
      "execution_count": null,
      "outputs": []
    },
    {
      "cell_type": "code",
      "source": [
        "list1 = [(\"tushar\",20),(\"aman\",20),(\"tusahr\",40),(\"ajay\",24),(\"ragav\",22)]\n",
        "\n",
        "for i in list1:\n",
        "  \n"
      ],
      "metadata": {
        "colab": {
          "base_uri": "https://localhost:8080/"
        },
        "id": "RVenLfZmJZpJ",
        "outputId": "945aff86-f91f-4971-b8a5-a234630bda94"
      },
      "execution_count": null,
      "outputs": [
        {
          "output_type": "stream",
          "name": "stdout",
          "text": [
            "tushar\n",
            "aman\n",
            "tusahr\n",
            "ajay\n",
            "ragav\n"
          ]
        }
      ]
    },
    {
      "cell_type": "code",
      "source": [],
      "metadata": {
        "id": "rCJKMaQvQ8Xv"
      },
      "execution_count": null,
      "outputs": []
    },
    {
      "cell_type": "code",
      "source": [],
      "metadata": {
        "id": "VzsLYleHQWe4"
      },
      "execution_count": null,
      "outputs": []
    }
  ]
}