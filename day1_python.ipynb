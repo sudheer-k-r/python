{
  "nbformat": 4,
  "nbformat_minor": 0,
  "metadata": {
    "colab": {
      "provenance": [],
      "authorship_tag": "ABX9TyMKsqjpOApCmUgaa/N2s87d",
      "include_colab_link": true
    },
    "kernelspec": {
      "name": "python3",
      "display_name": "Python 3"
    },
    "language_info": {
      "name": "python"
    }
  },
  "cells": [
    {
      "cell_type": "markdown",
      "metadata": {
        "id": "view-in-github",
        "colab_type": "text"
      },
      "source": [
        "<a href=\"https://colab.research.google.com/github/sudheer-k-r/python/blob/main/day1_python.ipynb\" target=\"_parent\"><img src=\"https://colab.research.google.com/assets/colab-badge.svg\" alt=\"Open In Colab\"/></a>"
      ]
    },
    {
      "cell_type": "code",
      "source": [
        "# first day\n",
        "# terminologies\n",
        "# data type\n",
        "# mutable vs Immutable\n",
        "# operater\n",
        "# string formatting \n",
        "\n"
      ],
      "metadata": {
        "id": "jOvyRXcBdDXc"
      },
      "execution_count": null,
      "outputs": []
    },
    {
      "cell_type": "code",
      "execution_count": null,
      "metadata": {
        "colab": {
          "base_uri": "https://localhost:8080/"
        },
        "id": "H6oKo7ydGuLt",
        "outputId": "7792fbe0-ffa7-4c4a-b64d-faeecb66055f"
      },
      "outputs": [
        {
          "output_type": "stream",
          "name": "stdout",
          "text": [
            "hello\n"
          ]
        }
      ],
      "source": [
        "print(\"hello\")\n",
        "print()\n"
      ]
    },
    {
      "cell_type": "code",
      "source": [
        "myuser =\"sudheer\"\n",
        "company =\"futurence\"\n",
        "\n",
        "print(\"name \", myuser,\"company\", company)\n",
        "print(f\"hey my company is {company} email is {myuser}\")\n",
        "print(\"hey user {}\". format(myuser))\n",
        "# can also use index with format()"
      ],
      "metadata": {
        "colab": {
          "base_uri": "https://localhost:8080/"
        },
        "id": "kxD3QG-LKePi",
        "outputId": "6fc46faf-7639-4940-e782-2ead14d8dba0"
      },
      "execution_count": null,
      "outputs": [
        {
          "output_type": "stream",
          "name": "stdout",
          "text": [
            "name  sudheer company futurence\n",
            "hey my company is futurence email is sudheer\n",
            "hey user sudheer\n"
          ]
        }
      ]
    },
    {
      "cell_type": "code",
      "source": [
        "a = 14.3\n",
        "ans = f\"{a}\"\n",
        "ans2=\"{}\".format(a)\n",
        "print(ans)\n",
        "print(type(ans))"
      ],
      "metadata": {
        "colab": {
          "base_uri": "https://localhost:8080/"
        },
        "id": "1ByBxsOrL-if",
        "outputId": "18fbecb2-10ac-493a-b554-c5cb4b429275"
      },
      "execution_count": null,
      "outputs": [
        {
          "output_type": "stream",
          "name": "stdout",
          "text": [
            "14.3\n",
            "<class 'str'>\n"
          ]
        }
      ]
    },
    {
      "cell_type": "code",
      "source": [
        "2*3//2*5/2-2"
      ],
      "metadata": {
        "colab": {
          "base_uri": "https://localhost:8080/"
        },
        "id": "CMkdksw8T7i0",
        "outputId": "58ae0121-d6c8-4f48-cecb-1cdc8824cbd4"
      },
      "execution_count": null,
      "outputs": [
        {
          "output_type": "execute_result",
          "data": {
            "text/plain": [
              "5.5"
            ]
          },
          "metadata": {},
          "execution_count": 19
        }
      ]
    },
    {
      "cell_type": "code",
      "source": [
        "#comparasion operaters\n",
        "x =10\n",
        "\n",
        "x==10\n",
        "x != 20\n",
        "\n"
      ],
      "metadata": {
        "colab": {
          "base_uri": "https://localhost:8080/"
        },
        "id": "dQhSKDXxWRi0",
        "outputId": "0479a226-9c17-4b4f-9885-613825ec8dda"
      },
      "execution_count": null,
      "outputs": [
        {
          "output_type": "execute_result",
          "data": {
            "text/plain": [
              "True"
            ]
          },
          "metadata": {},
          "execution_count": 21
        }
      ]
    },
    {
      "cell_type": "code",
      "source": [
        "# logical \n",
        "\n",
        "# conditions , and operater, or operater, bitwise operaters , And opertaers (left to right precedence )\n",
        "\n",
        "# & , | \n",
        "\n",
        "# bitwise left shift(multiplication) and right shift(division ) \n",
        "\n",
        "11>>1\n",
        "\n",
        "31>>2\n",
        "\n",
        "# number * 2 **bit \n",
        "11<<2\n",
        "\n",
        "# bitwise xor "
      ],
      "metadata": {
        "colab": {
          "base_uri": "https://localhost:8080/"
        },
        "id": "RqKHIbFNXMHm",
        "outputId": "edcdb5f2-f884-4c25-bbe9-f7de019b1c9a"
      },
      "execution_count": null,
      "outputs": [
        {
          "output_type": "execute_result",
          "data": {
            "text/plain": [
              "44"
            ]
          },
          "metadata": {},
          "execution_count": 24
        }
      ]
    },
    {
      "cell_type": "code",
      "source": [
        "# memebership & identity \n",
        "\n",
        "\"b\" in \"ban\"\n",
        "# not in "
      ],
      "metadata": {
        "colab": {
          "base_uri": "https://localhost:8080/"
        },
        "id": "mHnVNfWwbMed",
        "outputId": "54b230c0-db9c-42c9-93fa-c2b9ab3da041"
      },
      "execution_count": null,
      "outputs": [
        {
          "output_type": "execute_result",
          "data": {
            "text/plain": [
              "True"
            ]
          },
          "metadata": {},
          "execution_count": 25
        }
      ]
    },
    {
      "cell_type": "code",
      "source": [
        "# identity => to validate data type \n",
        "\n",
        "#is, is not , checks the memory address\n",
        "\n",
        "# logical operaters precesense(and will come first than or )"
      ],
      "metadata": {
        "id": "Qsy2ZwG-buIO"
      },
      "execution_count": null,
      "outputs": []
    },
    {
      "cell_type": "code",
      "source": [
        "#slicing operator\n",
        "\n",
        "city =\"BANGLORE\"\n",
        "\n",
        "city[-1]"
      ],
      "metadata": {
        "id": "B55lmBdMcsHB",
        "colab": {
          "base_uri": "https://localhost:8080/",
          "height": 36
        },
        "outputId": "b4039276-0ce5-4a79-d392-a79a28963338"
      },
      "execution_count": null,
      "outputs": [
        {
          "output_type": "execute_result",
          "data": {
            "text/plain": [
              "'BANGLORE'"
            ],
            "application/vnd.google.colaboratory.intrinsic+json": {
              "type": "string"
            }
          },
          "metadata": {},
          "execution_count": 1
        }
      ]
    },
    {
      "cell_type": "code",
      "source": [
        "\n",
        "city[0::2]\n",
        "city[0:6:-1]\n",
        "city[-4:5:-1]"
      ],
      "metadata": {
        "colab": {
          "base_uri": "https://localhost:8080/",
          "height": 36
        },
        "id": "7ZnVaKOb-h84",
        "outputId": "12b920d0-b2cd-4e3a-9dd5-206c40283586"
      },
      "execution_count": null,
      "outputs": [
        {
          "output_type": "execute_result",
          "data": {
            "text/plain": [
              "''"
            ],
            "application/vnd.google.colaboratory.intrinsic+json": {
              "type": "string"
            }
          },
          "metadata": {},
          "execution_count": 7
        }
      ]
    },
    {
      "cell_type": "code",
      "source": [
        "a = input()\n",
        "b = input()\n",
        "\n"
      ],
      "metadata": {
        "colab": {
          "base_uri": "https://localhost:8080/"
        },
        "id": "oDvkTYyWECpJ",
        "outputId": "b050e030-ca1d-4d88-8fef-4be6c1e95ac5"
      },
      "execution_count": null,
      "outputs": [
        {
          "output_type": "stream",
          "name": "stdout",
          "text": [
            "2\n",
            "3\n",
            "<class 'int'>\n"
          ]
        }
      ]
    },
    {
      "cell_type": "code",
      "source": [
        "str1 =\"hello\"\n",
        "ans =\"\"\n",
        "for i in range(1,len(str1)-1):\n",
        "    if str1[i]==str1[i+1]:\n",
        "      continue\n",
        "    else:\n",
        "      ans +=str1[i-1]\n",
        "\n",
        "print(ans)"
      ],
      "metadata": {
        "colab": {
          "base_uri": "https://localhost:8080/"
        },
        "id": "S9Z-k7ZWKn_a",
        "outputId": "5231ab35-f14d-43aa-cf9b-304b74b7c8f9"
      },
      "execution_count": null,
      "outputs": [
        {
          "output_type": "stream",
          "name": "stdout",
          "text": [
            "hl\n"
          ]
        }
      ]
    },
    {
      "cell_type": "code",
      "source": [
        "# str1 =\"ookhjrh   ll \"\n",
        "# ans =\"\"\n",
        "# l = len(str1)\n",
        "# j=-1\n",
        "# for i in range(0, l):\n",
        "#   if j< 0:\n",
        "#     j = j+1\n",
        "#   if (str1[i]==str1[j]):\n",
        "#     i = i+2\n",
        "#     j = j+2\n",
        "#   else:\n",
        "#      ans += str1[j]\n",
        "#     #  j =j+1\n",
        "\n",
        "# print(ans)\n",
        "\n",
        "\n",
        "# str1 =\"ookhj   ll \"\n",
        "# ans =\"\"\n",
        "# l = len(str1)\n",
        "# j=-1\n",
        "# for i in range(0, l):\n",
        "#   if (str1[i]==str1[j]) or j < 0:\n",
        "#     i = i+1\n",
        "#     j = j+1;\n",
        "#   else:\n",
        "#      ans += str1[i]\n",
        "#     #  j =j+1\n",
        "\n",
        "# print(ans)"
      ],
      "metadata": {
        "colab": {
          "base_uri": "https://localhost:8080/"
        },
        "id": "4Kdfq7zrP3Md",
        "outputId": "c374c79f-4e7a-4141-aa7a-3781276b5321"
      },
      "execution_count": null,
      "outputs": [
        {
          "output_type": "stream",
          "name": "stdout",
          "text": [
            "kjhll \n"
          ]
        }
      ]
    },
    {
      "cell_type": "code",
      "source": [
        "for i in range(0,5):\n",
        "  for j in range(0,i):\n",
        "    print(\"*\", end =\" \")\n",
        "  print()"
      ],
      "metadata": {
        "colab": {
          "base_uri": "https://localhost:8080/"
        },
        "id": "BJDjK8qgP521",
        "outputId": "d51d2462-5cb6-4577-8b56-56d3a19ea3ae"
      },
      "execution_count": null,
      "outputs": [
        {
          "output_type": "stream",
          "name": "stdout",
          "text": [
            "\n",
            "* \n",
            "* * \n",
            "* * * \n",
            "* * * * \n"
          ]
        }
      ]
    },
    {
      "cell_type": "code",
      "source": [
        "for i in range(5,0,-1):\n",
        "  for j in range(0,i):\n",
        "    print(\"*\", end =\" \")\n",
        "  print()"
      ],
      "metadata": {
        "colab": {
          "base_uri": "https://localhost:8080/"
        },
        "id": "o4L4RT8DbEPM",
        "outputId": "611b020b-7619-4d4d-b7b0-12aca0ee9056"
      },
      "execution_count": null,
      "outputs": [
        {
          "output_type": "stream",
          "name": "stdout",
          "text": [
            "* * * * * \n",
            "* * * * \n",
            "* * * \n",
            "* * \n",
            "* \n"
          ]
        }
      ]
    },
    {
      "cell_type": "code",
      "source": [
        "char1=\"A\"\n",
        "for i in range(0,5):\n",
        "  for j in range(0,i):\n",
        "    print(chr(ord(char1)+j), end =\" \")\n",
        "  print()"
      ],
      "metadata": {
        "colab": {
          "base_uri": "https://localhost:8080/"
        },
        "id": "UTXbcuWFbpuy",
        "outputId": "0aaed4d5-ef9e-4689-8123-99db804c0406"
      },
      "execution_count": null,
      "outputs": [
        {
          "output_type": "stream",
          "name": "stdout",
          "text": [
            "\n",
            "A \n",
            "A B \n",
            "A B C \n",
            "A B C D \n"
          ]
        }
      ]
    },
    {
      "cell_type": "code",
      "source": [
        "char1=\"A\"\n",
        "for i in range(0,5):\n",
        "  for j in range(0,i):\n",
        "    print(chr(ord(char1)+j), end =\" \")\n",
        "    char1 =chr(ord(char1)+j)\n",
        "  print()"
      ],
      "metadata": {
        "colab": {
          "base_uri": "https://localhost:8080/"
        },
        "id": "Wmn6HbCsgDaI",
        "outputId": "09504b17-c243-4b46-be38-fb57ed0d2910"
      },
      "execution_count": null,
      "outputs": [
        {
          "output_type": "stream",
          "name": "stdout",
          "text": [
            "\n",
            "A \n",
            "A B \n",
            "B C E \n",
            "E F H K \n"
          ]
        }
      ]
    },
    {
      "cell_type": "code",
      "source": [
        "char1=\"A\"\n",
        "for i in range(5,0,-1):\n",
        "  for j in range(0,i):\n",
        "    print(chr(ord(char1)+j), end =\" \")\n",
        "  print()"
      ],
      "metadata": {
        "colab": {
          "base_uri": "https://localhost:8080/"
        },
        "id": "xx-k6hYFdSCl",
        "outputId": "70e303fd-a316-48d9-cec3-1f9a133a3db2"
      },
      "execution_count": null,
      "outputs": [
        {
          "output_type": "stream",
          "name": "stdout",
          "text": [
            "A B C D E \n",
            "A B C D \n",
            "A B C \n",
            "A B \n",
            "A \n"
          ]
        }
      ]
    },
    {
      "cell_type": "code",
      "source": [
        "n =10\n",
        "for i in range(4,0,-1):\n",
        "  for j in range(0,i):\n",
        "    print(n-j, end =\" \")\n",
        "    # n =10\n",
        "  n = n-j-1\n",
        "  print()"
      ],
      "metadata": {
        "colab": {
          "base_uri": "https://localhost:8080/"
        },
        "id": "o4VfM8YQdZgd",
        "outputId": "20254117-fcbd-47b5-c2a6-6373b17f0e3c"
      },
      "execution_count": null,
      "outputs": [
        {
          "output_type": "stream",
          "name": "stdout",
          "text": [
            "10 9 8 7 \n",
            "6 5 4 \n",
            "3 2 \n",
            "1 \n"
          ]
        }
      ]
    },
    {
      "cell_type": "code",
      "source": [
        "# n =0\n",
        "# for i in range(0,5):\n",
        "#   for j in range(i):\n",
        "#     n = n+j\n",
        "#     print(n, end=\" \")\n",
        "#   n = n+1\n",
        "#   print()\n"
      ],
      "metadata": {
        "id": "p2VaBL_VgWqR"
      },
      "execution_count": null,
      "outputs": []
    },
    {
      "cell_type": "code",
      "source": [
        "# for i in range(1,6):\n",
        "#   for j in range(0,i):\n",
        "#     print(j+i,end =\" \")\n",
        "#   print()"
      ],
      "metadata": {
        "id": "nPpYocZOi8SI"
      },
      "execution_count": null,
      "outputs": []
    },
    {
      "cell_type": "code",
      "source": [
        "current_num = 1\n",
        "rows = 4\n",
        "stop = 2\n",
        "for i in range(rows):\n",
        "    for column in range(1, stop):\n",
        "        print(current_num, end=' ')\n",
        "        current_num += 1\n",
        "    print(\"\")\n",
        "    stop += 1"
      ],
      "metadata": {
        "colab": {
          "base_uri": "https://localhost:8080/"
        },
        "id": "CXp3SoJw90j0",
        "outputId": "96435c73-2c5d-4dae-a242-b16a621f36b9"
      },
      "execution_count": null,
      "outputs": [
        {
          "output_type": "stream",
          "name": "stdout",
          "text": [
            "1 \n",
            "2 3 \n",
            "4 5 6 \n",
            "7 8 9 10 \n"
          ]
        }
      ]
    },
    {
      "cell_type": "code",
      "source": [
        "\n",
        "# removce adjacent duplicates in an array\n",
        "\n",
        "l = []\n",
        "s= \"hello   hh\"\n",
        "for i in s:\n",
        "  if l and l[-1] == i:\n",
        "    l.pop()\n",
        "  else:\n",
        "    l.append(i)\n",
        "print(''.join(l))"
      ],
      "metadata": {
        "colab": {
          "base_uri": "https://localhost:8080/"
        },
        "id": "mvZNpRn2AhbQ",
        "outputId": "2e0b725d-6b8a-4d44-e5c0-9b4e6f5c2a04"
      },
      "execution_count": null,
      "outputs": [
        {
          "output_type": "stream",
          "name": "stdout",
          "text": [
            "heo \n"
          ]
        }
      ]
    },
    {
      "cell_type": "code",
      "source": [
        "# removce adjacent duplicates in an array\n",
        "class Solution:\n",
        "   def solve(self, s):\n",
        "      seen = s[0]\n",
        "      ans = s[0]\n",
        "      for i in s[1:]:\n",
        "         if i != seen:\n",
        "            ans += i\n",
        "            seen = i\n",
        "      return ans\n",
        "ob = Solution()\n",
        "print(ob.solve(\"LLLRLRR\"))"
      ],
      "metadata": {
        "id": "QgXk0VitcOk4"
      },
      "execution_count": null,
      "outputs": []
    },
    {
      "cell_type": "code",
      "source": [
        "# Take two input from the user and validate the input given if it's integer then perform the arithmetic operation other ask fir the user\n",
        "\n",
        "def is_integer(a):\n",
        "    num='0123456789'\n",
        "    for char in a:\n",
        "        if char not in num:\n",
        "            return False\n",
        "    return True\n",
        "while(True):\n",
        "    a=input('Enter 1st number ')\n",
        "    b=input('Enter 2nd number ')\n",
        "    if is_integer(a) and is_integer(b):\n",
        "        a=int(a)\n",
        "        b=int(b)\n",
        "        print(a+b,a-b,a/b,a%b,a//b,a**b)\n",
        "        break\n",
        "    "
      ],
      "metadata": {
        "id": "Afv__9-45Mx9"
      },
      "execution_count": null,
      "outputs": []
    },
    {
      "cell_type": "code",
      "source": [
        "r=5\n",
        "for i in range(1,r+1):\n",
        "    for j in range(1,r-i+1):\n",
        "        print(\" \",end='')\n",
        "    for k in range(1,2*i):\n",
        "        print(\"*\",end='')\n",
        "    print()"
      ],
      "metadata": {
        "colab": {
          "base_uri": "https://localhost:8080/"
        },
        "id": "ovvCS1D1pJ8d",
        "outputId": "fbd486f7-ade1-4b6f-dc2f-4c85f4167eee"
      },
      "execution_count": null,
      "outputs": [
        {
          "output_type": "stream",
          "name": "stdout",
          "text": [
            "    *\n",
            "   ***\n",
            "  *****\n",
            " *******\n",
            "*********\n"
          ]
        }
      ]
    },
    {
      "cell_type": "code",
      "source": [
        "r=5\n",
        "for i in range(r):\n",
        "    for j in range(i):\n",
        "        print(\" \",end='')\n",
        "    for k in range(1,2*(r-i)):\n",
        "        print(\"*\",end='')\n",
        "    print()"
      ],
      "metadata": {
        "colab": {
          "base_uri": "https://localhost:8080/"
        },
        "id": "xR-CNNicpeID",
        "outputId": "2c142582-94b7-459e-cb35-8adaab7ff012"
      },
      "execution_count": null,
      "outputs": [
        {
          "output_type": "stream",
          "name": "stdout",
          "text": [
            "*********\n",
            " *******\n",
            "  *****\n",
            "   ***\n",
            "    *\n"
          ]
        }
      ]
    },
    {
      "cell_type": "code",
      "source": [
        "n=5\n",
        "for i in range(n):\n",
        "    for j in range(n):\n",
        "        if i==0 or i==n-1 or j==0 or j==n-1:\n",
        "            print(\"*\",end=' ')\n",
        "        else:\n",
        "            print(\" \",end=' ')\n",
        "    print()"
      ],
      "metadata": {
        "id": "xN4i4DGVpkvB",
        "outputId": "5c4b777d-e675-4980-98a5-332cffd2623f",
        "colab": {
          "base_uri": "https://localhost:8080/"
        }
      },
      "execution_count": null,
      "outputs": [
        {
          "output_type": "stream",
          "name": "stdout",
          "text": [
            "* * * * * \n",
            "*       * \n",
            "*       * \n",
            "*       * \n",
            "* * * * * \n"
          ]
        }
      ]
    }
  ]
}