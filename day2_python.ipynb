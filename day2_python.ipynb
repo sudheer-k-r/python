{
  "nbformat": 4,
  "nbformat_minor": 0,
  "metadata": {
    "colab": {
      "provenance": [],
      "authorship_tag": "ABX9TyOmtQCC5EqkpDuMmsX82GvY",
      "include_colab_link": true
    },
    "kernelspec": {
      "name": "python3",
      "display_name": "Python 3"
    },
    "language_info": {
      "name": "python"
    }
  },
  "cells": [
    {
      "cell_type": "markdown",
      "metadata": {
        "id": "view-in-github",
        "colab_type": "text"
      },
      "source": [
        "<a href=\"https://colab.research.google.com/github/sudheer-k-r/python/blob/main/day2_python.ipynb\" target=\"_parent\"><img src=\"https://colab.research.google.com/assets/colab-badge.svg\" alt=\"Open In Colab\"/></a>"
      ]
    },
    {
      "cell_type": "code",
      "execution_count": null,
      "metadata": {
        "colab": {
          "base_uri": "https://localhost:8080/"
        },
        "id": "D83yCQnPbi1r",
        "outputId": "4c1415b1-174d-4973-c645-2ae7bbf9ca39"
      },
      "outputs": [
        {
          "output_type": "stream",
          "name": "stdout",
          "text": [
            "['gh', 1, 4, 9]\n"
          ]
        }
      ],
      "source": [
        "list1 =[\"first\",\"gh\", \"second\",1,2,3]\n",
        "l1= len(list1)\n",
        "for i in list1:\n",
        "  if type(i)==int:\n",
        "    list1[list1.index(i)]= list1[i]**2\n",
        "  else:\n",
        "    # print(list1[i])\n",
        "    list1.remove(i)\n",
        "print(list1)\n"
      ]
    },
    {
      "cell_type": "code",
      "source": [
        "# to remove strings and square integers \n",
        "\n",
        "list1 =[\"first\",\"gh\",4,\"jkj\",\"second\",1,2,3]\n",
        "l1= len(list1)\n",
        "i=0\n",
        "while(True):\n",
        "    if i >= len(list1): \n",
        "      break\n",
        "    if type(list1[i])==int:\n",
        "      list1[i]= list1[i]**2\n",
        "      i= i+1\n",
        "    else:\n",
        "      # print(list1[i])\n",
        "      list1.remove(list1[i])\n",
        "\n",
        "\n",
        "print(list1)"
      ],
      "metadata": {
        "colab": {
          "base_uri": "https://localhost:8080/"
        },
        "id": "CrcoMSvPpsS9",
        "outputId": "e9acae2b-6234-46ac-93c6-e7d412782f7f"
      },
      "execution_count": null,
      "outputs": [
        {
          "output_type": "stream",
          "name": "stdout",
          "text": [
            "[16, 1, 4, 9]\n"
          ]
        }
      ]
    },
    {
      "cell_type": "code",
      "source": [
        "# Take an input from the user and check the data based on the following condition\n",
        "#  - The data should be of string data type\n",
        "#  - The length of the input should lie in the range from 6 to 15 character in length\n",
        "# - The input should have atleast 1 capital letter ( A to Z)\n",
        "# - 1 smaller letter ( A to J)\n",
        "# - 1 Number ( 0 to 9)\n",
        "# - 1 Special character (  # @ $  %)\n",
        "\n",
        "# In case any of the condition is not valid ask for the input from the user upto 4 times otherwise exit the program by putting a message input give is wrong\n",
        "\n",
        "count=0\n",
        "while(count<4):\n",
        "    inp=input(\"Enter a string :\")\n",
        "    l_flag=False\n",
        "    cap_flag=False\n",
        "    small_flag=False\n",
        "    num_flag=False\n",
        "    spec_flag=False\n",
        "    l=len(inp)\n",
        "    if(l>=6 and l<=15):\n",
        "        l_flag=True\n",
        "    for i in inp:\n",
        "        if i>='A' and i<='Z':\n",
        "            cap_flag=True\n",
        "        if i>='a' and i<='j':\n",
        "            small_flag=True\n",
        "        if '0'<=i<='9':\n",
        "            num_flag=True\n",
        "        if i in '#@$%':\n",
        "            spec_flag=True\n",
        "    flag=l_flag and cap_flag and small_flag and num_flag and spec_flag\n",
        "    if(flag==True):\n",
        "        print(\"valid string\")\n",
        "        break\n",
        "    else:\n",
        "         print(\"enter a valid string\")\n",
        "    count+=1\n"
      ],
      "metadata": {
        "colab": {
          "base_uri": "https://localhost:8080/"
        },
        "id": "YEQoj9JfxTjb",
        "outputId": "efaa7fa1-e0d9-470c-982d-f504b1a5e363"
      },
      "execution_count": null,
      "outputs": [
        {
          "output_type": "stream",
          "name": "stdout",
          "text": [
            "Enter a string :Sud1@jd\n",
            "valid string\n"
          ]
        }
      ]
    },
    {
      "cell_type": "code",
      "source": [
        "set1 = set()\n",
        "print(set1)"
      ],
      "metadata": {
        "colab": {
          "base_uri": "https://localhost:8080/"
        },
        "id": "AB3dLIVODENJ",
        "outputId": "36124a48-33b1-4894-9849-15b44ca77c26"
      },
      "execution_count": null,
      "outputs": [
        {
          "output_type": "stream",
          "name": "stdout",
          "text": [
            "set()\n"
          ]
        }
      ]
    },
    {
      "cell_type": "code",
      "source": [
        "#task\n",
        "\n",
        "\n",
        "set_1 ={1,3,5,7,45,98}\n",
        "set_2 ={1,2,3,4,5,6,67,7,8,9,10}\n",
        "\n",
        "set_1.union(set_2)\n",
        "set_1.isdisjoint(set_2) \n",
        "print(set_1.difference(set_2))\n",
        "set_2.issuperset(set_1)\n",
        "set_1.symmetric_difference(set_2)\n",
        "# set_1.symmetric_difference_update(set_2)\n",
        "# print(set_1)"
      ],
      "metadata": {
        "colab": {
          "base_uri": "https://localhost:8080/"
        },
        "id": "N17v6o3IOx1Q",
        "outputId": "858637be-9bef-4f99-d701-8e06cd6d2ee1"
      },
      "execution_count": null,
      "outputs": [
        {
          "output_type": "stream",
          "name": "stdout",
          "text": [
            "{98, 45}\n"
          ]
        },
        {
          "output_type": "execute_result",
          "data": {
            "text/plain": [
              "{2, 4, 6, 8, 9, 10, 45, 67, 98}"
            ]
          },
          "metadata": {},
          "execution_count": 51
        }
      ]
    },
    {
      "cell_type": "code",
      "source": [
        "#task \n",
        "\n",
        "# input1 =\"hey user hey sudheer hope are well. hey you\"\n",
        "# dict_1 ={}\n",
        "\n",
        "# input1.split()\n",
        "# for i in range(len(inpu1)-1):\n",
        "#     dict_1.add(i,\"\")\n"
      ],
      "metadata": {
        "id": "MbOpAGlGTGav"
      },
      "execution_count": null,
      "outputs": []
    },
    {
      "cell_type": "code",
      "source": [
        "# Take an input string from a user and return all the unique words from the string \n",
        "# \tInput  = \"hey user hey tushar hope you are well. hey you\"\n",
        "\t\n",
        "# \toutput = \"hey user tushar hope you are well.\"\n",
        "\n",
        "input1 =\"hey user hey sudheer hope are well. hey you\"\n",
        "l1 = set(input1.split(\" \"))\n",
        "# print(\" \".join(l1))\n",
        "for i in l1:\n",
        "  print(i, end=\" \")"
      ],
      "metadata": {
        "colab": {
          "base_uri": "https://localhost:8080/"
        },
        "id": "J8AMZIzPVGVz",
        "outputId": "38ce97f2-2395-4e2a-a4f9-a357254a46d3"
      },
      "execution_count": null,
      "outputs": [
        {
          "output_type": "stream",
          "name": "stdout",
          "text": [
            "user hope you well. are hey sudheer "
          ]
        }
      ]
    },
    {
      "cell_type": "code",
      "source": [
        "# In the string find out how many vowels are present with it count\n",
        "# \tExample: \"Futurense\"\n",
        "# \tu => 2 , e=> 2\n",
        "\n",
        "input1 = \"Futurense\"\n",
        "res = {}\n",
        "set1= \"aeiouAEIOU\"\n",
        "for i in input1:\n",
        "  if i in set1:\n",
        "    if i in res.keys():\n",
        "      res[i]=res[i]+1\n",
        "    else:\n",
        "      res[i] = 1\n",
        "print(res)"
      ],
      "metadata": {
        "colab": {
          "base_uri": "https://localhost:8080/"
        },
        "id": "QhJ7BByfVqtl",
        "outputId": "e918e65c-3aa4-4d31-f014-9d09a318ffa6"
      },
      "execution_count": null,
      "outputs": [
        {
          "output_type": "stream",
          "name": "stdout",
          "text": [
            "{'u': 2, 'e': 2}\n"
          ]
        }
      ]
    },
    {
      "cell_type": "code",
      "source": [
        "# least occurence \n",
        "# Take input from the user and check for the smallest / least occurance of the chracter and show in the final output with it's occurance\n",
        "#   in case there is a tie print any of the count of first character appearance\n",
        "\n",
        "#   Example \"User Banglore\"\n",
        "# \t\"U\" has count of 1\n",
        "input1 =\"user banglore\"\n",
        "res ={}\n",
        "for i in input1:\n",
        "  if i in res.keys():\n",
        "    res[i] = res[i]+1\n",
        "  else:\n",
        "    res[i] = 1\n",
        "print(res)\n",
        "val = min(res.values())\n",
        "for i in input1:\n",
        "  if res[i] == val:\n",
        "    print(i,\"has count of\", res[i])\n",
        "    break"
      ],
      "metadata": {
        "colab": {
          "base_uri": "https://localhost:8080/"
        },
        "id": "qeqDxZmHXiVe",
        "outputId": "c9e8ea7f-3c2c-4b5d-814d-220dfc262606"
      },
      "execution_count": null,
      "outputs": [
        {
          "output_type": "stream",
          "name": "stdout",
          "text": [
            "{'u': 1, 's': 1, 'e': 2, 'r': 2, ' ': 1, 'b': 1, 'a': 1, 'n': 1, 'g': 1, 'l': 1, 'o': 1}\n",
            "u has count of 1\n"
          ]
        }
      ]
    },
    {
      "cell_type": "code",
      "source": [
        "# Check the input string provided by the user, in case the string provied is starting with the vowel we add on \"ing\" in the last\n",
        "# \totherwise we add on \"esy\" in the end of the string\n",
        "\n",
        "input1 =\"cehck\"\n",
        "set1= \"aeiouAEIOU\"\n",
        "val = input1[0]\n",
        "\n",
        "if val in set1:\n",
        "  input1 =input1+\"ing\"\n",
        "else:\n",
        "  input1 =input1+\"esy\"\n",
        "print(input1)"
      ],
      "metadata": {
        "colab": {
          "base_uri": "https://localhost:8080/"
        },
        "id": "RBh33Yvujo-a",
        "outputId": "ff7e36ab-1137-4cc9-811b-3ed410b598ed"
      },
      "execution_count": null,
      "outputs": [
        {
          "output_type": "stream",
          "name": "stdout",
          "text": [
            "cehckesy\n"
          ]
        }
      ]
    },
    {
      "cell_type": "code",
      "source": [
        "# big data\n",
        "l1 = [(1,2),(3,4)]\n",
        "d1 = dict(l1)\n",
        "print(d1)"
      ],
      "metadata": {
        "colab": {
          "base_uri": "https://localhost:8080/"
        },
        "id": "oj8xvK5XkiZ3",
        "outputId": "4444fd82-18a4-4a5a-d77c-149eff7600cd"
      },
      "execution_count": null,
      "outputs": [
        {
          "output_type": "stream",
          "name": "stdout",
          "text": [
            "{1: 2, 3: 4}\n"
          ]
        }
      ]
    },
    {
      "cell_type": "code",
      "source": [
        "s = input()"
      ],
      "metadata": {
        "colab": {
          "base_uri": "https://localhost:8080/"
        },
        "id": "OhOUwhOGlHHC",
        "outputId": "341b81a6-cbe2-48df-9c45-2e19e3890693"
      },
      "execution_count": null,
      "outputs": [
        {
          "name": "stdout",
          "output_type": "stream",
          "text": [
            "ui\n"
          ]
        }
      ]
    }
  ]
}