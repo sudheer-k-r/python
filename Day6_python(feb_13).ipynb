{
  "nbformat": 4,
  "nbformat_minor": 0,
  "metadata": {
    "colab": {
      "provenance": [],
      "authorship_tag": "ABX9TyMHkqpIgNgSi+78OxRxoxKX",
      "include_colab_link": true
    },
    "kernelspec": {
      "name": "python3",
      "display_name": "Python 3"
    },
    "language_info": {
      "name": "python"
    }
  },
  "cells": [
    {
      "cell_type": "markdown",
      "metadata": {
        "id": "view-in-github",
        "colab_type": "text"
      },
      "source": [
        "<a href=\"https://colab.research.google.com/github/sudheer-k-r/python/blob/main/Day6_python(feb_13).ipynb\" target=\"_parent\"><img src=\"https://colab.research.google.com/assets/colab-badge.svg\" alt=\"Open In Colab\"/></a>"
      ]
    },
    {
      "cell_type": "code",
      "execution_count": null,
      "metadata": {
        "id": "nXuSmF9pB3pS"
      },
      "outputs": [],
      "source": [
        "#encapsulation \n",
        "\n"
      ]
    },
    {
      "cell_type": "code",
      "source": [
        "\n",
        "# mutable vs immutable inside function \n",
        "def userInfo(name,email,userList=[]):\n",
        "  print(name,email)\n",
        "  userList.append(name)\n",
        "\n",
        "  return {\"name\":name,\n",
        "          \"email\": email,\n",
        "          \"userList\": userList\n",
        "          }\n",
        "u1 = userInfo()\n",
        "u2 = userInfo()"
      ],
      "metadata": {
        "id": "SnRsLAOsL-cX"
      },
      "execution_count": null,
      "outputs": []
    },
    {
      "cell_type": "code",
      "source": [
        "#type hinting\n",
        "\n",
        "def fun(a:int,b:int) -> int:\n",
        "  return a+b\n",
        "\n"
      ],
      "metadata": {
        "id": "jE2gOFg3OMdS"
      },
      "execution_count": null,
      "outputs": []
    },
    {
      "cell_type": "code",
      "source": [
        "from abc import ABC, abstractmethod\n",
        "\n",
        "class HR(ABC):\n",
        "   \n",
        "   @abstractmethod\n",
        "   def hiring(self):\n",
        "    #  print(\"someting\")\n",
        "     pass\n",
        "\n",
        "class Recuriter(HR):\n",
        "   \n",
        "   def hiring(self):\n",
        "    #  HR.hiring(self)\n",
        "     print(\"hiring\")\n",
        "\n",
        "\n",
        "obj1 = Recuriter()\n",
        "obj1.hiring()\n",
        "# HR.hiring(obj1)"
      ],
      "metadata": {
        "colab": {
          "base_uri": "https://localhost:8080/"
        },
        "id": "pok0K_dHfYFt",
        "outputId": "1cf0fe5f-8951-4e89-fd68-0863bbce5939"
      },
      "execution_count": null,
      "outputs": [
        {
          "output_type": "stream",
          "name": "stdout",
          "text": [
            "hiring\n"
          ]
        }
      ]
    },
    {
      "cell_type": "code",
      "source": [
        "# static method\n",
        "# class method\n",
        "\n",
        "class Currency:\n",
        "  amount =20\n",
        "  def __repr__():\n",
        "    return f\"Currency {Currency.amount}\"\n",
        "\n",
        "  def changeCurrency(rupees):\n",
        "    return Currency.amount + rupees\n",
        "\n",
        "print(Currency.changeCurrency(100))"
      ],
      "metadata": {
        "colab": {
          "base_uri": "https://localhost:8080/"
        },
        "id": "-vtD-26iik-0",
        "outputId": "69d9effe-513c-42ef-ff4e-4899fec30561"
      },
      "execution_count": null,
      "outputs": [
        {
          "output_type": "stream",
          "name": "stdout",
          "text": [
            "120\n"
          ]
        }
      ]
    },
    {
      "cell_type": "code",
      "source": [
        "class Currency:\n",
        "  def __init__(self,amount):\n",
        "    self.amount = amount\n",
        "\n",
        "  def __repr__():\n",
        "    return f\"Currency {Currency.amount}\"\n",
        " \n",
        "  @classmethod\n",
        "  def changeCurrency(cls,rupees):\n",
        "    return cls(Currency.amount + rupees)\n",
        "\n",
        "\n",
        "\n",
        "class YenCurrency(Currency):\n",
        "  def __init__(self,amount):\n",
        "    self.amount = amount\n",
        "    self.symbol =\"$^$\"\n",
        "\n",
        "  def __repr__(self):\n",
        "    return f\"yen class {self.symbol}:{self.amount}\"\n",
        "\n",
        "\n",
        "# y1 = YenCurrency(50)\n",
        "# print(y1)"
      ],
      "metadata": {
        "colab": {
          "base_uri": "https://localhost:8080/"
        },
        "id": "7f0ToyVwArfC",
        "outputId": "db33b54d-86af-4b53-d68d-a72db8b6a242"
      },
      "execution_count": null,
      "outputs": [
        {
          "output_type": "stream",
          "name": "stdout",
          "text": [
            "yen class ^:50\n"
          ]
        }
      ]
    },
    {
      "cell_type": "code",
      "source": [
        "# generaters \n",
        "\n",
        "def func():\n",
        "  count =0\n",
        "\n",
        "  while count<100:\n",
        "    # print()\n",
        "    yield count \n",
        "    # print()\n",
        "    # return 2\n",
        "    count +=1\n",
        "\n",
        "\n",
        "g = func()\n",
        "print(next(g))"
      ],
      "metadata": {
        "colab": {
          "base_uri": "https://localhost:8080/"
        },
        "id": "D4cnS1bTHzG-",
        "outputId": "7fe926e9-4af9-4c38-9a63-494a0a42d6d9"
      },
      "execution_count": null,
      "outputs": [
        {
          "output_type": "stream",
          "name": "stdout",
          "text": [
            "0\n"
          ]
        }
      ]
    },
    {
      "cell_type": "code",
      "source": [
        "class gen():\n",
        "  def __init__(self):\n",
        "    self.num1 =0\n",
        "\n",
        "  def __next__(self):\n",
        "    if self.num1 >10:\n",
        "      print(\"exit\")\n",
        "    else:\n",
        "      print(self.num1)\n",
        "\n",
        "\n",
        "obj1 = gen()\n",
        "print(obj1.__next__())\n",
        "print(obj1.__next__())"
      ],
      "metadata": {
        "colab": {
          "base_uri": "https://localhost:8080/"
        },
        "id": "blv4qwa9R0SE",
        "outputId": "7f561f47-08c0-4844-b068-32dd92e44cc4"
      },
      "execution_count": null,
      "outputs": [
        {
          "output_type": "stream",
          "name": "stdout",
          "text": [
            "0\n",
            "None\n",
            "0\n",
            "None\n"
          ]
        }
      ]
    }
  ]
}